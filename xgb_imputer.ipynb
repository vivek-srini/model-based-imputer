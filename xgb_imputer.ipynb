{
 "cells": [
  {
   "cell_type": "code",
   "execution_count": 1,
   "id": "d46defb0",
   "metadata": {},
   "outputs": [],
   "source": [
    "import numpy as np\n",
    "import pandas as pd\n",
    "from sklearn.preprocessing import LabelEncoder\n",
    "from sklearn.linear_model import LogisticRegression,LinearRegression\n",
    "from xgboost import XGBRegressor\n",
    "from sklearn.model_selection import train_test_split\n",
    "from sklearn.ensemble import RandomForestClassifier\n",
    "from sklearn.tree import DecisionTreeClassifier\n",
    "from sklearn.impute import SimpleImputer\n",
    "from tqdm import tqdm"
   ]
  },
  {
   "cell_type": "code",
   "execution_count": 6,
   "id": "52fdda86",
   "metadata": {},
   "outputs": [],
   "source": [
    "def return_preds_categorical(df,target,cat_features):\n",
    "    le = LabelEncoder()\n",
    "    df1 = df.copy()\n",
    "    df2 = df.copy()\n",
    "    df1 = df1.dropna(axis=0)\n",
    "    for col in df1.columns:\n",
    "        if col in cat_features:\n",
    "            df1[col] = le.fit_transform(df1[col])\n",
    "    \n",
    "    for col in df2.columns:\n",
    "        if col in cat_features:\n",
    "            df2[col] = le.fit_transform(df2[col])\n",
    "            \n",
    "    for col in df2.columns:\n",
    "        mode = df2[col].mode()\n",
    "        median = df2[col].median()\n",
    "        if col!=target:\n",
    "            if col in cat_features:\n",
    "                df2[col]=df2[col].fillna(mode)\n",
    "            else:\n",
    "                df2[col]=df2[col].fillna(median)\n",
    "    \n",
    "    X = df1.drop([target],axis=1)\n",
    "    y = df1[target]\n",
    "    model = LogisticRegression()\n",
    "    try:\n",
    "        model.fit(X,y)\n",
    "    except MemoryError:\n",
    "        print(target)\n",
    "        pass\n",
    "    try:\n",
    "        cat_preds = model.predict(df2.drop([target],axis=1))\n",
    "        df =df.drop([target],axis=1)\n",
    "        df[target] = list(cat_preds)\n",
    "        print(\"done\")\n",
    "    except AttributeError:\n",
    "        pass\n",
    "    return df\n",
    "\n",
    "def return_preds_numeric(df,target,cat_features):\n",
    "    le = LabelEncoder()\n",
    "    df1 = df.copy()\n",
    "    df2 = df.copy()\n",
    "    df1 = df1.dropna(axis=0)\n",
    "    for col in df1.columns:\n",
    "        if col in cat_features:\n",
    "            df1[col] = le.fit_transform(df1[col])\n",
    "    \n",
    "    for col in df2.columns:\n",
    "        if col in cat_features:\n",
    "            df2[col] = le.fit_transform(df2[col])\n",
    "            \n",
    "    for col in df2.columns:\n",
    "        mode = df2[col].mode()\n",
    "        median = df2[col].median()\n",
    "        if col!=target:\n",
    "            if col in cat_features:\n",
    "                df2[col]=df2[col].fillna(mode)\n",
    "            else:\n",
    "                df2[col]=df2[col].fillna(median)\n",
    "    \n",
    "    X = df1.drop([target],axis=1)\n",
    "    y = df1[target]\n",
    "    model = LinearRegression()\n",
    "    try:\n",
    "        model.fit(X,y)\n",
    "    except MemoryError:\n",
    "        print(target)\n",
    "        pass\n",
    "    try:\n",
    "        num_preds = model.predict(df2.drop([target],axis=1))\n",
    "        df =df.drop([target],axis=1)\n",
    "        df[target] = list(num_preds)\n",
    "        print(\"done\")\n",
    "    except AttributeError:\n",
    "        pass\n",
    "    return df\n",
    "\n",
    "def impute_df(df,cat_features):\n",
    "    for feature in tqdm(df.columns):\n",
    "        if df[feature].isnull().any()==True:\n",
    "            if feature in cat_features:\n",
    "                df = return_preds_categorical(df,feature,cat_features)\n",
    "            else:\n",
    "                df = return_preds_numeric(df,feature,cat_features)\n",
    "    return df     \n",
    "\n"
   ]
  },
  {
   "cell_type": "code",
   "execution_count": 7,
   "id": "6d4ffcec",
   "metadata": {},
   "outputs": [],
   "source": [
    "df = pd.read_csv(\"accident_data.csv\")"
   ]
  },
  {
   "cell_type": "code",
   "execution_count": 8,
   "id": "9392397a",
   "metadata": {},
   "outputs": [],
   "source": [
    "cat_features = []\n",
    "for col in df.columns:\n",
    "    if df[col].dtype not in [\"float64\",\"int64\"]:\n",
    "        cat_features.append(col)"
   ]
  },
  {
   "cell_type": "code",
   "execution_count": null,
   "id": "2bf153cf",
   "metadata": {},
   "outputs": [
    {
     "name": "stderr",
     "output_type": "stream",
     "text": [
      "  0%|                                                                                           | 0/34 [00:00<?, ?it/s]C:\\Users\\Vivek\\anaconda3\\lib\\site-packages\\sklearn\\linear_model\\_logistic.py:814: ConvergenceWarning: lbfgs failed to converge (status=1):\n",
      "STOP: TOTAL NO. of ITERATIONS REACHED LIMIT.\n",
      "\n",
      "Increase the number of iterations (max_iter) or scale the data as shown in:\n",
      "    https://scikit-learn.org/stable/modules/preprocessing.html\n",
      "Please also refer to the documentation for alternative solver options:\n",
      "    https://scikit-learn.org/stable/modules/linear_model.html#logistic-regression\n",
      "  n_iter_i = _check_optimize_result(\n",
      "  6%|████▉                                                                              | 2/34 [00:39<10:26, 19.58s/it]"
     ]
    },
    {
     "name": "stdout",
     "output_type": "stream",
     "text": [
      "done\n"
     ]
    },
    {
     "name": "stderr",
     "output_type": "stream",
     "text": [
      "\r",
      "  9%|███████▎                                                                           | 3/34 [00:58<10:03, 19.45s/it]"
     ]
    },
    {
     "name": "stdout",
     "output_type": "stream",
     "text": [
      "done\n"
     ]
    },
    {
     "name": "stderr",
     "output_type": "stream",
     "text": [
      "C:\\Users\\Vivek\\anaconda3\\lib\\site-packages\\sklearn\\linear_model\\_logistic.py:814: ConvergenceWarning: lbfgs failed to converge (status=1):\n",
      "STOP: TOTAL NO. of ITERATIONS REACHED LIMIT.\n",
      "\n",
      "Increase the number of iterations (max_iter) or scale the data as shown in:\n",
      "    https://scikit-learn.org/stable/modules/preprocessing.html\n",
      "Please also refer to the documentation for alternative solver options:\n",
      "    https://scikit-learn.org/stable/modules/linear_model.html#logistic-regression\n",
      "  n_iter_i = _check_optimize_result(\n",
      " 12%|█████████▊                                                                         | 4/34 [01:54<16:30, 33.01s/it]"
     ]
    },
    {
     "name": "stdout",
     "output_type": "stream",
     "text": [
      "done\n"
     ]
    },
    {
     "name": "stderr",
     "output_type": "stream",
     "text": [
      "\r",
      " 15%|████████████▏                                                                      | 5/34 [02:18<14:28, 29.94s/it]"
     ]
    },
    {
     "name": "stdout",
     "output_type": "stream",
     "text": [
      "done\n"
     ]
    },
    {
     "name": "stderr",
     "output_type": "stream",
     "text": [
      "C:\\Users\\Vivek\\anaconda3\\lib\\site-packages\\sklearn\\linear_model\\_logistic.py:814: ConvergenceWarning: lbfgs failed to converge (status=1):\n",
      "STOP: TOTAL NO. of ITERATIONS REACHED LIMIT.\n",
      "\n",
      "Increase the number of iterations (max_iter) or scale the data as shown in:\n",
      "    https://scikit-learn.org/stable/modules/preprocessing.html\n",
      "Please also refer to the documentation for alternative solver options:\n",
      "    https://scikit-learn.org/stable/modules/linear_model.html#logistic-regression\n",
      "  n_iter_i = _check_optimize_result(\n",
      " 21%|█████████████████                                                                  | 7/34 [03:50<17:03, 37.89s/it]"
     ]
    },
    {
     "name": "stdout",
     "output_type": "stream",
     "text": [
      "done\n"
     ]
    },
    {
     "name": "stderr",
     "output_type": "stream",
     "text": [
      "\r",
      " 29%|████████████████████████                                                          | 10/34 [04:09<08:40, 21.67s/it]"
     ]
    },
    {
     "name": "stdout",
     "output_type": "stream",
     "text": [
      "done\n"
     ]
    },
    {
     "name": "stderr",
     "output_type": "stream",
     "text": [
      "\r",
      " 38%|███████████████████████████████▎                                                  | 13/34 [04:28<05:18, 15.15s/it]"
     ]
    },
    {
     "name": "stdout",
     "output_type": "stream",
     "text": [
      "done\n"
     ]
    },
    {
     "name": "stderr",
     "output_type": "stream",
     "text": [
      "C:\\Users\\Vivek\\anaconda3\\lib\\site-packages\\sklearn\\linear_model\\_logistic.py:814: ConvergenceWarning: lbfgs failed to converge (status=1):\n",
      "STOP: TOTAL NO. of ITERATIONS REACHED LIMIT.\n",
      "\n",
      "Increase the number of iterations (max_iter) or scale the data as shown in:\n",
      "    https://scikit-learn.org/stable/modules/preprocessing.html\n",
      "Please also refer to the documentation for alternative solver options:\n",
      "    https://scikit-learn.org/stable/modules/linear_model.html#logistic-regression\n",
      "  n_iter_i = _check_optimize_result(\n",
      " 47%|██████████████████████████████████████▌                                           | 16/34 [05:38<04:57, 16.50s/it]"
     ]
    },
    {
     "name": "stdout",
     "output_type": "stream",
     "text": [
      "done\n",
      "done\n"
     ]
    },
    {
     "name": "stderr",
     "output_type": "stream",
     "text": [
      " 53%|███████████████████████████████████████████▍                                      | 18/34 [06:16<04:36, 17.31s/it]"
     ]
    },
    {
     "name": "stdout",
     "output_type": "stream",
     "text": [
      "done\n"
     ]
    },
    {
     "name": "stderr",
     "output_type": "stream",
     "text": [
      "\r",
      " 56%|█████████████████████████████████████████████▊                                    | 19/34 [06:34<04:21, 17.44s/it]"
     ]
    },
    {
     "name": "stdout",
     "output_type": "stream",
     "text": [
      "done\n",
      "LSOA_of_Accident_Location\n"
     ]
    },
    {
     "name": "stderr",
     "output_type": "stream",
     "text": [
      " 68%|███████████████████████████████████████████████████████▍                          | 23/34 [07:09<02:11, 11.98s/it]"
     ]
    },
    {
     "name": "stdout",
     "output_type": "stream",
     "text": [
      "done\n"
     ]
    },
    {
     "name": "stderr",
     "output_type": "stream",
     "text": [
      "\r",
      " 71%|█████████████████████████████████████████████████████████▉                        | 24/34 [07:28<02:10, 13.09s/it]"
     ]
    },
    {
     "name": "stdout",
     "output_type": "stream",
     "text": [
      "done\n"
     ]
    },
    {
     "name": "stderr",
     "output_type": "stream",
     "text": [
      "C:\\Users\\Vivek\\anaconda3\\lib\\site-packages\\sklearn\\linear_model\\_logistic.py:814: ConvergenceWarning: lbfgs failed to converge (status=1):\n",
      "STOP: TOTAL NO. of ITERATIONS REACHED LIMIT.\n",
      "\n",
      "Increase the number of iterations (max_iter) or scale the data as shown in:\n",
      "    https://scikit-learn.org/stable/modules/preprocessing.html\n",
      "Please also refer to the documentation for alternative solver options:\n",
      "    https://scikit-learn.org/stable/modules/linear_model.html#logistic-regression\n",
      "  n_iter_i = _check_optimize_result(\n",
      " 76%|██████████████████████████████████████████████████████████████▋                   | 26/34 [08:34<02:40, 20.00s/it]"
     ]
    },
    {
     "name": "stdout",
     "output_type": "stream",
     "text": [
      "done\n"
     ]
    },
    {
     "name": "stderr",
     "output_type": "stream",
     "text": [
      "C:\\Users\\Vivek\\anaconda3\\lib\\site-packages\\sklearn\\linear_model\\_logistic.py:814: ConvergenceWarning: lbfgs failed to converge (status=1):\n",
      "STOP: TOTAL NO. of ITERATIONS REACHED LIMIT.\n",
      "\n",
      "Increase the number of iterations (max_iter) or scale the data as shown in:\n",
      "    https://scikit-learn.org/stable/modules/preprocessing.html\n",
      "Please also refer to the documentation for alternative solver options:\n",
      "    https://scikit-learn.org/stable/modules/linear_model.html#logistic-regression\n",
      "  n_iter_i = _check_optimize_result(\n",
      " 79%|█████████████████████████████████████████████████████████████████                 | 27/34 [10:11<04:06, 35.28s/it]"
     ]
    },
    {
     "name": "stdout",
     "output_type": "stream",
     "text": [
      "done\n"
     ]
    },
    {
     "name": "stderr",
     "output_type": "stream",
     "text": [
      "C:\\Users\\Vivek\\anaconda3\\lib\\site-packages\\sklearn\\linear_model\\_logistic.py:814: ConvergenceWarning: lbfgs failed to converge (status=1):\n",
      "STOP: TOTAL NO. of ITERATIONS REACHED LIMIT.\n",
      "\n",
      "Increase the number of iterations (max_iter) or scale the data as shown in:\n",
      "    https://scikit-learn.org/stable/modules/preprocessing.html\n",
      "Please also refer to the documentation for alternative solver options:\n",
      "    https://scikit-learn.org/stable/modules/linear_model.html#logistic-regression\n",
      "  n_iter_i = _check_optimize_result(\n",
      " 82%|███████████████████████████████████████████████████████████████████▌              | 28/34 [14:21<08:14, 82.34s/it]"
     ]
    },
    {
     "name": "stdout",
     "output_type": "stream",
     "text": [
      "done\n"
     ]
    }
   ],
   "source": [
    "df = impute_df(df,cat_features=cat_features)"
   ]
  },
  {
   "cell_type": "code",
   "execution_count": null,
   "id": "a1c6c983",
   "metadata": {},
   "outputs": [],
   "source": []
  }
 ],
 "metadata": {
  "kernelspec": {
   "display_name": "Python 3 (ipykernel)",
   "language": "python",
   "name": "python3"
  },
  "language_info": {
   "codemirror_mode": {
    "name": "ipython",
    "version": 3
   },
   "file_extension": ".py",
   "mimetype": "text/x-python",
   "name": "python",
   "nbconvert_exporter": "python",
   "pygments_lexer": "ipython3",
   "version": "3.9.7"
  }
 },
 "nbformat": 4,
 "nbformat_minor": 5
}
